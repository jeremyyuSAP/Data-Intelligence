{
 "cells": [
  {
   "cell_type": "markdown",
   "metadata": {},
   "source": [
    "## Install the packages"
   ]
  },
  {
   "cell_type": "code",
   "execution_count": null,
   "metadata": {},
   "outputs": [],
   "source": [
    "!pip install sklearn\n",
    "!pip install tensorflow\n",
    "!pip install hdfs"
   ]
  },
  {
   "cell_type": "code",
   "execution_count": null,
   "metadata": {},
   "outputs": [],
   "source": [
    "import tensorflow as tf\n",
    "import numpy as np\n",
    "import csv\n",
    "from sklearn.preprocessing import MinMaxScaler, OneHotEncoder\n",
    "from sklearn.datasets import load_iris\n",
    "from sklearn.model_selection import train_test_split\n",
    "from hdfs import InsecureClient"
   ]
  },
  {
   "cell_type": "markdown",
   "metadata": {},
   "source": [
    "## Load raw data from DataLake"
   ]
  },
  {
   "cell_type": "code",
   "execution_count": null,
   "metadata": {},
   "outputs": [],
   "source": [
    "train = []\n",
    "categories = []\n",
    "client = InsecureClient('http://datalake:50070')\n",
    "with client.read('/worm/iris/iris.csv', encoding = 'utf-8') as reader:\n",
    "    readCSV = csv.reader(reader, delimiter=',')\n",
    "    for row in list(readCSV)[1:]:  # skip header\n",
    "        data = row[:4]\n",
    "        category = row[4]\n",
    "\n",
    "        train.append(data)\n",
    "        categories.append(category)\n",
    "\n",
    "# print(train)\n",
    "# print(categories)"
   ]
  },
  {
   "cell_type": "markdown",
   "metadata": {},
   "source": [
    "## Prepare training data\n",
    "* Scale inputs between 0 and 1\n",
    "* Split into train and test set"
   ]
  },
  {
   "cell_type": "code",
   "execution_count": null,
   "metadata": {},
   "outputs": [],
   "source": [
    "## split data set\n",
    "X_train, X_test, Y_train, Y_test = train_test_split(train, categories, test_size=0.33, random_state=42, stratify=categories)\n",
    "\n",
    "## max min scalar on parameters\n",
    "X_scaler = MinMaxScaler(feature_range=(0,1))\n",
    " \n",
    "## Preprocessing the dataset\n",
    "X_train_scaled = X_scaler.fit_transform(X_train)\n",
    "X_test_scaled = X_scaler.fit_transform(X_test)\n",
    " \n",
    "## One hot encode Y\n",
    "onehot_encoder = OneHotEncoder(sparse=False)\n",
    "Y_train_enc = onehot_encoder.fit_transform(np.array(Y_train).reshape(-1,1))\n",
    "Y_test_enc = onehot_encoder.fit_transform(np.array(Y_test).reshape(-1,1))\n",
    "# print(Y_test_enc[:5])"
   ]
  },
  {
   "cell_type": "markdown",
   "metadata": {},
   "source": [
    "## Create 2 layer network and train for 100 epochs\n",
    "* achieves ca. 96% accuracy on test"
   ]
  },
  {
   "cell_type": "code",
   "execution_count": null,
   "metadata": {},
   "outputs": [],
   "source": [
    "dataset = tf.data.Dataset.from_tensor_slices((X_train_scaled, Y_train_enc))\n",
    "dataset = dataset.batch(32)\n",
    "dataset = dataset.shuffle(1000)\n",
    "dataset = dataset.repeat()\n",
    "dataset_test = tf.data.Dataset.from_tensor_slices((X_test_scaled, Y_test_enc))\n",
    "dataset_test = dataset_test.batch(32)\n",
    "dataset_test = dataset_test.shuffle(1000)\n",
    "dataset_test = dataset_test.repeat()"
   ]
  },
  {
   "cell_type": "code",
   "execution_count": null,
   "metadata": {},
   "outputs": [],
   "source": [
    "model = tf.keras.Sequential([\n",
    "    tf.keras.layers.Dense(16, input_dim=4),\n",
    "    tf.keras.layers.Dense(3, activation=tf.nn.softmax),\n",
    "])\n",
    "\n",
    "sgd = tf.keras.optimizers.SGD(lr=0.01, decay=1e-6, momentum=0.9, nesterov=True)\n",
    "model.compile(optimizer=sgd, loss=\"categorical_crossentropy\", metrics=[\"accuracy\"])\n",
    "\n",
    "model.fit(dataset, steps_per_epoch=32, epochs=100, verbose=1)\n",
    "\n",
    "loss, accuracy = model.evaluate(dataset_test, steps=32)\n",
    "print(\"loss:%f\" % (loss))\n",
    "print(\"accuracy: %f\" % (accuracy))"
   ]
  },
  {
   "cell_type": "markdown",
   "metadata": {},
   "source": [
    "## Evaluate"
   ]
  },
  {
   "cell_type": "code",
   "execution_count": null,
   "metadata": {},
   "outputs": [],
   "source": [
    "y_predict = model.predict_classes(X_test_scaled)\n",
    "for i in range(len(X_test_scaled)):\n",
    "\tprint(\"X=%s, Label=%s Predicted=%s\" % (X_test_scaled[i], Y_test_enc[i], y_predict[i]))"
   ]
  },
  {
   "cell_type": "code",
   "execution_count": null,
   "metadata": {},
   "outputs": [],
   "source": []
  }
 ],
 "metadata": {
  "createdAt": "2019-09-23T20:24:25Z",
  "createdBy": "karim",
  "description": "prepare training data and keras script",
  "kernelspec": {
   "display_name": "Python 3",
   "language": "python",
   "name": "python3"
  },
  "language_info": {
   "codemirror_mode": {
    "name": "ipython",
    "version": 3
   },
   "file_extension": ".py",
   "mimetype": "text/x-python",
   "name": "python",
   "nbconvert_exporter": "python",
   "pygments_lexer": "ipython3",
   "version": "3.7.3"
  },
  "modifiedAt": "2019-09-23T20:24:25Z",
  "modifiedBy": "karim",
  "name": "iris",
  "scenarioId": "01b32994-0612-41bb-b156-12c36c7d4a37"
 },
 "nbformat": 4,
 "nbformat_minor": 4
}
