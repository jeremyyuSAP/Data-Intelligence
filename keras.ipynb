{
 "cells": [
  {
   "cell_type": "markdown",
   "metadata": {},
   "source": [
    "## Install the packages"
   ]
  },
  {
   "cell_type": "code",
   "execution_count": 2,
   "metadata": {
    "pycharm": {
     "is_executing": false
    }
   },
   "outputs": [
    {
     "name": "stdout",
     "text": [
      "Created temporary directory: /private/var/folders/r6/6qf_z_6s5kd9ly6zy59t1g_h0000gs/T/pip-ephem-wheel-cache-xjmunua2\r\nCreated temporary directory: /private/var/folders/r6/6qf_z_6s5kd9ly6zy59t1g_h0000gs/T/pip-install-o8pjhhka\r\nLooking in indexes: http://nexus.wdf.sap.corp:8081/nexus/content/groups/build.snapshots.pypi/simple/\r\n",
      "Collecting sklearn\r\n  1 location(s) to search for versions of sklearn:\r\n  * http://nexus.wdf.sap.corp:8081/nexus/content/groups/build.snapshots.pypi/simple/sklearn/\r\n  Getting page http://nexus.wdf.sap.corp:8081/nexus/content/groups/build.snapshots.pypi/simple/sklearn/\r\n  Starting new HTTP connection (1): nexus.wdf.sap.corp\r\n  Incremented Retry for (url='/nexus/content/groups/build.snapshots.pypi/simple/sklearn/'): Retry(total=4, connect=None, read=None, redirect=None, status=None)\r\n\u001b[33m  Retrying (Retry(total=4, connect=None, read=None, redirect=None, status=None)) after connection broken by 'NewConnectionError('<pip._vendor.urllib3.connection.HTTPConnection object at 0x10f3b0ac8>: Failed to establish a new connection: [Errno 8] nodename nor servname provided, or not known',)': /nexus/content/groups/build.snapshots.pypi/simple/sklearn/\u001b[0m\r\n  Starting new HTTP connection (2): nexus.wdf.sap.corp\r\n  Incremented Retry for (url='/nexus/content/groups/build.snapshots.pypi/simple/sklearn/'): Retry(total=3, connect=None, read=None, redirect=None, status=None)\r\n",
      "\u001b[33m  Retrying (Retry(total=3, connect=None, read=None, redirect=None, status=None)) after connection broken by 'NewConnectionError('<pip._vendor.urllib3.connection.HTTPConnection object at 0x10f3b0240>: Failed to establish a new connection: [Errno 8] nodename nor servname provided, or not known',)': /nexus/content/groups/build.snapshots.pypi/simple/sklearn/\u001b[0m\r\n  Starting new HTTP connection (3): nexus.wdf.sap.corp\r\n  Incremented Retry for (url='/nexus/content/groups/build.snapshots.pypi/simple/sklearn/'): Retry(total=2, connect=None, read=None, redirect=None, status=None)\r\n",
      "\u001b[33m  Retrying (Retry(total=2, connect=None, read=None, redirect=None, status=None)) after connection broken by 'NewConnectionError('<pip._vendor.urllib3.connection.HTTPConnection object at 0x10f3b0208>: Failed to establish a new connection: [Errno 8] nodename nor servname provided, or not known',)': /nexus/content/groups/build.snapshots.pypi/simple/sklearn/\u001b[0m\r\n  Starting new HTTP connection (4): nexus.wdf.sap.corp\r\n  Incremented Retry for (url='/nexus/content/groups/build.snapshots.pypi/simple/sklearn/'): Retry(total=1, connect=None, read=None, redirect=None, status=None)\r\n",
      "\u001b[33m  Retrying (Retry(total=1, connect=None, read=None, redirect=None, status=None)) after connection broken by 'NewConnectionError('<pip._vendor.urllib3.connection.HTTPConnection object at 0x10f3aa2b0>: Failed to establish a new connection: [Errno 8] nodename nor servname provided, or not known',)': /nexus/content/groups/build.snapshots.pypi/simple/sklearn/\u001b[0m\r\n  Starting new HTTP connection (5): nexus.wdf.sap.corp\r\n  Incremented Retry for (url='/nexus/content/groups/build.snapshots.pypi/simple/sklearn/'): Retry(total=0, connect=None, read=None, redirect=None, status=None)\r\n",
      "\u001b[33m  Retrying (Retry(total=0, connect=None, read=None, redirect=None, status=None)) after connection broken by 'NewConnectionError('<pip._vendor.urllib3.connection.HTTPConnection object at 0x10f3aa940>: Failed to establish a new connection: [Errno 8] nodename nor servname provided, or not known',)': /nexus/content/groups/build.snapshots.pypi/simple/sklearn/\u001b[0m\r\n  Starting new HTTP connection (6): nexus.wdf.sap.corp\r\n  Could not fetch URL http://nexus.wdf.sap.corp:8081/nexus/content/groups/build.snapshots.pypi/simple/sklearn/: connection error: HTTPConnectionPool(host='nexus.wdf.sap.corp', port=8081): Max retries exceeded with url: /nexus/content/groups/build.snapshots.pypi/simple/sklearn/ (Caused by NewConnectionError('<pip._vendor.urllib3.connection.HTTPConnection object at 0x10f3aaf98>: Failed to establish a new connection: [Errno 8] nodename nor servname provided, or not known',)) - skipping\r\n\u001b[31m  Could not find a version that satisfies the requirement sklearn (from versions: )\u001b[0m\r\nCleaning up...\r\n\u001b[31mNo matching distribution found for sklearn\u001b[0m\r\nException information:\r\nTraceback (most recent call last):\r\n  File \"/Library/Frameworks/Python.framework/Versions/3.6/lib/python3.6/site-packages/pip-10.0.1-py3.6.egg/pip/_internal/basecommand.py\", line 228, in main\r\n    status = self.run(options, args)\r\n  File \"/Library/Frameworks/Python.framework/Versions/3.6/lib/python3.6/site-packages/pip-10.0.1-py3.6.egg/pip/_internal/commands/install.py\", line 291, in run\r\n    resolver.resolve(requirement_set)\r\n  File \"/Library/Frameworks/Python.framework/Versions/3.6/lib/python3.6/site-packages/pip-10.0.1-py3.6.egg/pip/_internal/resolve.py\", line 103, in resolve\r\n    self._resolve_one(requirement_set, req)\r\n  File \"/Library/Frameworks/Python.framework/Versions/3.6/lib/python3.6/site-packages/pip-10.0.1-py3.6.egg/pip/_internal/resolve.py\", line 257, in _resolve_one\r\n    abstract_dist = self._get_abstract_dist_for(req_to_install)\r\n  File \"/Library/Frameworks/Python.framework/Versions/3.6/lib/python3.6/site-packages/pip-10.0.1-py3.6.egg/pip/_internal/resolve.py\", line 210, in _get_abstract_dist_for\r\n    self.require_hashes\r\n  File \"/Library/Frameworks/Python.framework/Versions/3.6/lib/python3.6/site-packages/pip-10.0.1-py3.6.egg/pip/_internal/operations/prepare.py\", line 245, in prepare_linked_requirement\r\n    req.populate_link(finder, upgrade_allowed, require_hashes)\r\n  File \"/Library/Frameworks/Python.framework/Versions/3.6/lib/python3.6/site-packages/pip-10.0.1-py3.6.egg/pip/_internal/req/req_install.py\", line 307, in populate_link\r\n    self.link = finder.find_requirement(self, upgrade)\r\n  File \"/Library/Frameworks/Python.framework/Versions/3.6/lib/python3.6/site-packages/pip-10.0.1-py3.6.egg/pip/_internal/index.py\", line 533, in find_requirement\r\n    'No matching distribution found for %s' % req\r\npip._internal.exceptions.DistributionNotFound: No matching distribution found for sklearn\r\n",
      "1 location(s) to search for versions of pip:\r\n* http://nexus.wdf.sap.corp:8081/nexus/content/groups/build.snapshots.pypi/simple/pip/\r\nGetting page http://nexus.wdf.sap.corp:8081/nexus/content/groups/build.snapshots.pypi/simple/pip/\r\nStarting new HTTP connection (1): nexus.wdf.sap.corp\r\nCould not fetch URL http://nexus.wdf.sap.corp:8081/nexus/content/groups/build.snapshots.pypi/simple/pip/: connection error: HTTPConnectionPool(host='nexus.wdf.sap.corp', port=8081): Max retries exceeded with url: /nexus/content/groups/build.snapshots.pypi/simple/pip/ (Caused by NewConnectionError('<pip._vendor.urllib3.connection.HTTPConnection object at 0x110667f60>: Failed to establish a new connection: [Errno 8] nodename nor servname provided, or not known',)) - skipping\r\n",
      "Created temporary directory: /private/var/folders/r6/6qf_z_6s5kd9ly6zy59t1g_h0000gs/T/pip-ephem-wheel-cache-mx72ippz\r\nCreated temporary directory: /private/var/folders/r6/6qf_z_6s5kd9ly6zy59t1g_h0000gs/T/pip-install-8gr9_z6f\r\nLooking in indexes: http://nexus.wdf.sap.corp:8081/nexus/content/groups/build.snapshots.pypi/simple/\r\n",
      "Requirement already satisfied: tensorflow in /Library/Frameworks/Python.framework/Versions/3.6/lib/python3.6/site-packages (1.4.1)\r\nRequirement already satisfied: protobuf>=3.3.0 in /Library/Frameworks/Python.framework/Versions/3.6/lib/python3.6/site-packages (from tensorflow) (3.5.1)\r\nRequirement already satisfied: enum34>=1.1.6 in /Library/Frameworks/Python.framework/Versions/3.6/lib/python3.6/site-packages (from tensorflow) (1.1.6)\r\nRequirement already satisfied: wheel>=0.26 in /Library/Frameworks/Python.framework/Versions/3.6/lib/python3.6/site-packages (from tensorflow) (0.30.0)\r\nRequirement already satisfied: six>=1.10.0 in /Library/Frameworks/Python.framework/Versions/3.6/lib/python3.6/site-packages (from tensorflow) (1.12.0)\r\nRequirement already satisfied: tensorflow-tensorboard<0.5.0,>=0.4.0rc1 in /Library/Frameworks/Python.framework/Versions/3.6/lib/python3.6/site-packages (from tensorflow) (0.4.0rc3)\r\n",
      "Requirement already satisfied: numpy>=1.12.1 in /Library/Frameworks/Python.framework/Versions/3.6/lib/python3.6/site-packages (from tensorflow) (1.13.3)\r\nRequirement already satisfied: setuptools in /Library/Frameworks/Python.framework/Versions/3.6/lib/python3.6/site-packages (from protobuf>=3.3.0->tensorflow) (38.2.4)\r\nRequirement already satisfied: html5lib==0.9999999 in /Library/Frameworks/Python.framework/Versions/3.6/lib/python3.6/site-packages (from tensorflow-tensorboard<0.5.0,>=0.4.0rc1->tensorflow) (0.9999999)\r\nRequirement already satisfied: markdown>=2.6.8 in /Library/Frameworks/Python.framework/Versions/3.6/lib/python3.6/site-packages (from tensorflow-tensorboard<0.5.0,>=0.4.0rc1->tensorflow) (2.6.10)\r\nRequirement already satisfied: bleach==1.5.0 in /Library/Frameworks/Python.framework/Versions/3.6/lib/python3.6/site-packages (from tensorflow-tensorboard<0.5.0,>=0.4.0rc1->tensorflow) (1.5.0)\r\nRequirement already satisfied: werkzeug>=0.11.10 in /Library/Frameworks/Python.framework/Versions/3.6/lib/python3.6/site-packages (from tensorflow-tensorboard<0.5.0,>=0.4.0rc1->tensorflow) (0.13)\r\n",
      "\u001b[31mawscli 1.11.188 has requirement botocore==1.7.46, but you'll have botocore 1.10.32 which is incompatible.\u001b[0m\r\n\u001b[31mrequests 2.18.4 has requirement idna<2.7,>=2.5, but you'll have idna 2.8 which is incompatible.\u001b[0m\r\n\u001b[31mrequests 2.18.4 has requirement urllib3<1.23,>=1.21.1, but you'll have urllib3 1.24.1 which is incompatible.\u001b[0m\r\n\u001b[31minferencefw 0.5.0 has requirement flask==0.11.1, but you'll have flask 0.12.2 which is incompatible.\u001b[0m\r\n\u001b[31minferencefw 0.5.0 has requirement requests==2.11.1, but you'll have requests 2.18.4 which is incompatible.\u001b[0m\r\n\u001b[31minferencefw 0.5.0 has requirement sapclea-mlpkit-security==1.0, but you'll have sapclea-mlpkit-security 2.2.2 which is incompatible.\u001b[0m\r\n\u001b[31minferencefw 0.5.0 has requirement simplejson==3.8.2, but you'll have simplejson 3.11.1 which is incompatible.\u001b[0m\r\n\u001b[31minferencefw 0.5.0 has requirement six==1.10.0, but you'll have six 1.12.0 which is incompatible.\u001b[0m\r\n\u001b[31mcf-python-logging-support 1.1 has requirement flask==0.11.1, but you'll have flask 0.12.2 which is incompatible.\u001b[0m\r\nCleaning up...\r\n",
      "1 location(s) to search for versions of pip:\r\n* http://nexus.wdf.sap.corp:8081/nexus/content/groups/build.snapshots.pypi/simple/pip/\r\nGetting page http://nexus.wdf.sap.corp:8081/nexus/content/groups/build.snapshots.pypi/simple/pip/\r\n",
      "Starting new HTTP connection (1): nexus.wdf.sap.corp\r\nCould not fetch URL http://nexus.wdf.sap.corp:8081/nexus/content/groups/build.snapshots.pypi/simple/pip/: connection error: HTTPConnectionPool(host='nexus.wdf.sap.corp', port=8081): Max retries exceeded with url: /nexus/content/groups/build.snapshots.pypi/simple/pip/ (Caused by NewConnectionError('<pip._vendor.urllib3.connection.HTTPConnection object at 0x110606c88>: Failed to establish a new connection: [Errno 8] nodename nor servname provided, or not known',)) - skipping\r\n",
      "Created temporary directory: /private/var/folders/r6/6qf_z_6s5kd9ly6zy59t1g_h0000gs/T/pip-ephem-wheel-cache-y0dd5dpj\r\nCreated temporary directory: /private/var/folders/r6/6qf_z_6s5kd9ly6zy59t1g_h0000gs/T/pip-install-tl2zx87o\r\nLooking in indexes: http://nexus.wdf.sap.corp:8081/nexus/content/groups/build.snapshots.pypi/simple/\r\n",
      "Collecting hdfs\r\n  1 location(s) to search for versions of hdfs:\r\n  * http://nexus.wdf.sap.corp:8081/nexus/content/groups/build.snapshots.pypi/simple/hdfs/\r\n  Getting page http://nexus.wdf.sap.corp:8081/nexus/content/groups/build.snapshots.pypi/simple/hdfs/\r\n  Starting new HTTP connection (1): nexus.wdf.sap.corp\r\n  Incremented Retry for (url='/nexus/content/groups/build.snapshots.pypi/simple/hdfs/'): Retry(total=4, connect=None, read=None, redirect=None, status=None)\r\n\u001b[33m  Retrying (Retry(total=4, connect=None, read=None, redirect=None, status=None)) after connection broken by 'NewConnectionError('<pip._vendor.urllib3.connection.HTTPConnection object at 0x110476a20>: Failed to establish a new connection: [Errno 8] nodename nor servname provided, or not known',)': /nexus/content/groups/build.snapshots.pypi/simple/hdfs/\u001b[0m\r\n  Starting new HTTP connection (2): nexus.wdf.sap.corp\r\n  Incremented Retry for (url='/nexus/content/groups/build.snapshots.pypi/simple/hdfs/'): Retry(total=3, connect=None, read=None, redirect=None, status=None)\r\n",
      "\u001b[33m  Retrying (Retry(total=3, connect=None, read=None, redirect=None, status=None)) after connection broken by 'NewConnectionError('<pip._vendor.urllib3.connection.HTTPConnection object at 0x110476358>: Failed to establish a new connection: [Errno 8] nodename nor servname provided, or not known',)': /nexus/content/groups/build.snapshots.pypi/simple/hdfs/\u001b[0m\r\n  Starting new HTTP connection (3): nexus.wdf.sap.corp\r\n  Incremented Retry for (url='/nexus/content/groups/build.snapshots.pypi/simple/hdfs/'): Retry(total=2, connect=None, read=None, redirect=None, status=None)\r\n",
      "\u001b[33m  Retrying (Retry(total=2, connect=None, read=None, redirect=None, status=None)) after connection broken by 'NewConnectionError('<pip._vendor.urllib3.connection.HTTPConnection object at 0x110476278>: Failed to establish a new connection: [Errno 8] nodename nor servname provided, or not known',)': /nexus/content/groups/build.snapshots.pypi/simple/hdfs/\u001b[0m\r\n  Starting new HTTP connection (4): nexus.wdf.sap.corp\r\n  Incremented Retry for (url='/nexus/content/groups/build.snapshots.pypi/simple/hdfs/'): Retry(total=1, connect=None, read=None, redirect=None, status=None)\r\n",
      "\u001b[33m  Retrying (Retry(total=1, connect=None, read=None, redirect=None, status=None)) after connection broken by 'NewConnectionError('<pip._vendor.urllib3.connection.HTTPConnection object at 0x11048b588>: Failed to establish a new connection: [Errno 8] nodename nor servname provided, or not known',)': /nexus/content/groups/build.snapshots.pypi/simple/hdfs/\u001b[0m\r\n  Starting new HTTP connection (5): nexus.wdf.sap.corp\r\n  Incremented Retry for (url='/nexus/content/groups/build.snapshots.pypi/simple/hdfs/'): Retry(total=0, connect=None, read=None, redirect=None, status=None)\r\n",
      "\u001b[33m  Retrying (Retry(total=0, connect=None, read=None, redirect=None, status=None)) after connection broken by 'NewConnectionError('<pip._vendor.urllib3.connection.HTTPConnection object at 0x11048bbe0>: Failed to establish a new connection: [Errno 8] nodename nor servname provided, or not known',)': /nexus/content/groups/build.snapshots.pypi/simple/hdfs/\u001b[0m\r\n  Starting new HTTP connection (6): nexus.wdf.sap.corp\r\n  Could not fetch URL http://nexus.wdf.sap.corp:8081/nexus/content/groups/build.snapshots.pypi/simple/hdfs/: connection error: HTTPConnectionPool(host='nexus.wdf.sap.corp', port=8081): Max retries exceeded with url: /nexus/content/groups/build.snapshots.pypi/simple/hdfs/ (Caused by NewConnectionError('<pip._vendor.urllib3.connection.HTTPConnection object at 0x11048b2b0>: Failed to establish a new connection: [Errno 8] nodename nor servname provided, or not known',)) - skipping\r\n\u001b[31m  Could not find a version that satisfies the requirement hdfs (from versions: )\u001b[0m\r\nCleaning up...\r\n\u001b[31mNo matching distribution found for hdfs\u001b[0m\r\nException information:\r\nTraceback (most recent call last):\r\n  File \"/Library/Frameworks/Python.framework/Versions/3.6/lib/python3.6/site-packages/pip-10.0.1-py3.6.egg/pip/_internal/basecommand.py\", line 228, in main\r\n    status = self.run(options, args)\r\n  File \"/Library/Frameworks/Python.framework/Versions/3.6/lib/python3.6/site-packages/pip-10.0.1-py3.6.egg/pip/_internal/commands/install.py\", line 291, in run\r\n    resolver.resolve(requirement_set)\r\n  File \"/Library/Frameworks/Python.framework/Versions/3.6/lib/python3.6/site-packages/pip-10.0.1-py3.6.egg/pip/_internal/resolve.py\", line 103, in resolve\r\n    self._resolve_one(requirement_set, req)\r\n  File \"/Library/Frameworks/Python.framework/Versions/3.6/lib/python3.6/site-packages/pip-10.0.1-py3.6.egg/pip/_internal/resolve.py\", line 257, in _resolve_one\r\n    abstract_dist = self._get_abstract_dist_for(req_to_install)\r\n  File \"/Library/Frameworks/Python.framework/Versions/3.6/lib/python3.6/site-packages/pip-10.0.1-py3.6.egg/pip/_internal/resolve.py\", line 210, in _get_abstract_dist_for\r\n    self.require_hashes\r\n  File \"/Library/Frameworks/Python.framework/Versions/3.6/lib/python3.6/site-packages/pip-10.0.1-py3.6.egg/pip/_internal/operations/prepare.py\", line 245, in prepare_linked_requirement\r\n    req.populate_link(finder, upgrade_allowed, require_hashes)\r\n  File \"/Library/Frameworks/Python.framework/Versions/3.6/lib/python3.6/site-packages/pip-10.0.1-py3.6.egg/pip/_internal/req/req_install.py\", line 307, in populate_link\r\n    self.link = finder.find_requirement(self, upgrade)\r\n  File \"/Library/Frameworks/Python.framework/Versions/3.6/lib/python3.6/site-packages/pip-10.0.1-py3.6.egg/pip/_internal/index.py\", line 533, in find_requirement\r\n    'No matching distribution found for %s' % req\r\npip._internal.exceptions.DistributionNotFound: No matching distribution found for hdfs\r\n",
      "1 location(s) to search for versions of pip:\r\n",
      "* http://nexus.wdf.sap.corp:8081/nexus/content/groups/build.snapshots.pypi/simple/pip/\r\nGetting page http://nexus.wdf.sap.corp:8081/nexus/content/groups/build.snapshots.pypi/simple/pip/\r\nStarting new HTTP connection (1): nexus.wdf.sap.corp\r\nCould not fetch URL http://nexus.wdf.sap.corp:8081/nexus/content/groups/build.snapshots.pypi/simple/pip/: connection error: HTTPConnectionPool(host='nexus.wdf.sap.corp', port=8081): Max retries exceeded with url: /nexus/content/groups/build.snapshots.pypi/simple/pip/ (Caused by NewConnectionError('<pip._vendor.urllib3.connection.HTTPConnection object at 0x110544898>: Failed to establish a new connection: [Errno 8] nodename nor servname provided, or not known',)) - skipping\r\n"
     ],
     "output_type": "stream"
    }
   ],
   "source": [
    "!pip install sklearn\n",
    "!pip install tensorflow\n",
    "!pip install hdfs"
   ]
  },
  {
   "cell_type": "code",
   "execution_count": null,
   "metadata": {},
   "outputs": [],
   "source": [
    "import tensorflow as tf\n",
    "import numpy as np\n",
    "import csv\n",
    "from sklearn.preprocessing import MinMaxScaler, OneHotEncoder\n",
    "from sklearn.datasets import load_iris\n",
    "from sklearn.model_selection import train_test_split\n",
    "from hdfs import InsecureClient"
   ]
  },
  {
   "cell_type": "markdown",
   "metadata": {},
   "source": [
    "## Load raw data from DataLake"
   ]
  },
  {
   "cell_type": "code",
   "execution_count": null,
   "metadata": {},
   "outputs": [],
   "source": [
    "train = []\n",
    "categories = []\n",
    "client = InsecureClient('http://datalake:50070')\n",
    "with client.read('/worm/iris/iris.csv', encoding = 'utf-8') as reader:\n",
    "    readCSV = csv.reader(reader, delimiter=',')\n",
    "    for row in list(readCSV)[1:]:  # skip header\n",
    "        data = row[:4]\n",
    "        category = row[4]\n",
    "\n",
    "        train.append(data)\n",
    "        categories.append(category)\n",
    "\n",
    "# print(train)\n",
    "# print(categories)"
   ]
  },
  {
   "cell_type": "markdown",
   "metadata": {},
   "source": [
    "## Prepare training data\n",
    "* Scale inputs between 0 and 1\n",
    "* Split into train and test set"
   ]
  },
  {
   "cell_type": "code",
   "execution_count": null,
   "metadata": {},
   "outputs": [],
   "source": [
    "## split data set\n",
    "X_train, X_test, Y_train, Y_test = train_test_split(train, categories, test_size=0.33, random_state=42, stratify=categories)\n",
    "\n",
    "## max min scalar on parameters\n",
    "X_scaler = MinMaxScaler(feature_range=(0,1))\n",
    " \n",
    "## Preprocessing the dataset\n",
    "X_train_scaled = X_scaler.fit_transform(X_train)\n",
    "X_test_scaled = X_scaler.fit_transform(X_test)\n",
    " \n",
    "## One hot encode Y\n",
    "onehot_encoder = OneHotEncoder(sparse=False)\n",
    "Y_train_enc = onehot_encoder.fit_transform(np.array(Y_train).reshape(-1,1))\n",
    "Y_test_enc = onehot_encoder.fit_transform(np.array(Y_test).reshape(-1,1))\n",
    "# print(Y_test_enc[:5])"
   ]
  },
  {
   "cell_type": "markdown",
   "metadata": {},
   "source": [
    "## Create 2 layer network and train for 100 epochs\n",
    "* achieves ca. 96% accuracy on test"
   ]
  },
  {
   "cell_type": "code",
   "execution_count": null,
   "metadata": {},
   "outputs": [],
   "source": [
    "dataset = tf.data.Dataset.from_tensor_slices((X_train_scaled, Y_train_enc))\n",
    "dataset = dataset.batch(32)\n",
    "dataset = dataset.shuffle(1000)\n",
    "dataset = dataset.repeat()\n",
    "dataset_test = tf.data.Dataset.from_tensor_slices((X_test_scaled, Y_test_enc))\n",
    "dataset_test = dataset_test.batch(32)\n",
    "dataset_test = dataset_test.shuffle(1000)\n",
    "dataset_test = dataset_test.repeat()"
   ]
  },
  {
   "cell_type": "code",
   "execution_count": null,
   "metadata": {},
   "outputs": [],
   "source": [
    "model = tf.keras.Sequential([\n",
    "    tf.keras.layers.Dense(16, input_dim=4),\n",
    "    tf.keras.layers.Dense(3, activation=tf.nn.softmax),\n",
    "])\n",
    "\n",
    "sgd = tf.keras.optimizers.SGD(lr=0.01, decay=1e-6, momentum=0.9, nesterov=True)\n",
    "model.compile(optimizer=sgd, loss=\"categorical_crossentropy\", metrics=[\"accuracy\"])\n",
    "\n",
    "model.fit(dataset, steps_per_epoch=32, epochs=100, verbose=1)\n",
    "\n",
    "loss, accuracy = model.evaluate(dataset_test, steps=32)\n",
    "print(\"loss:%f\" % (loss))\n",
    "print(\"accuracy: %f\" % (accuracy))"
   ]
  },
  {
   "cell_type": "markdown",
   "metadata": {},
   "source": [
    "## Evaluate"
   ]
  },
  {
   "cell_type": "code",
   "execution_count": null,
   "metadata": {},
   "outputs": [],
   "source": [
    "y_predict = model.predict_classes(X_test_scaled)\n",
    "for i in range(len(X_test_scaled)):\n",
    "\tprint(\"X=%s, Label=%s Predicted=%s\" % (X_test_scaled[i], Y_test_enc[i], y_predict[i]))"
   ]
  },
  {
   "cell_type": "code",
   "execution_count": null,
   "metadata": {},
   "outputs": [],
   "source": []
  }
 ],
 "metadata": {
  "createdAt": "2019-09-23T20:24:25Z",
  "createdBy": "karim",
  "description": "prepare training data and keras script",
  "kernelspec": {
   "display_name": "Python 3",
   "language": "python",
   "name": "python3"
  },
  "language_info": {
   "codemirror_mode": {
    "name": "ipython",
    "version": 3
   },
   "file_extension": ".py",
   "mimetype": "text/x-python",
   "name": "python",
   "nbconvert_exporter": "python",
   "pygments_lexer": "ipython3",
   "version": "3.7.3"
  },
  "modifiedAt": "2019-09-23T20:24:25Z",
  "modifiedBy": "karim",
  "name": "iris",
  "scenarioId": "01b32994-0612-41bb-b156-12c36c7d4a37",
  "pycharm": {
   "stem_cell": {
    "cell_type": "raw",
    "source": [],
    "metadata": {
     "collapsed": false
    }
   }
  }
 },
 "nbformat": 4,
 "nbformat_minor": 4
}