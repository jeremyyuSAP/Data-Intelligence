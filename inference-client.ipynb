{
 "cells": [
  {
   "cell_type": "code",
   "execution_count": null,
   "metadata": {},
   "outputs": [],
   "source": [
    "import csv\n",
    "import numpy as np\n",
    "import random\n",
    "import json\n",
    "import requests\n",
    "from sklearn.preprocessing import MinMaxScaler, OneHotEncoder\n",
    "from sklearn.datasets import load_iris\n",
    "from sklearn.model_selection import train_test_split\n",
    "\n",
    "raw_data =  load_iris()\n",
    " \n",
    "## split data set\n",
    "X_train, X_test, Y_train, Y_test = train_test_split(raw_data.data, raw_data.target, test_size=0.33, random_state=42, stratify= raw_data.target)\n",
    " \n",
    "## max min scalar on parameters\n",
    "X_scaler = MinMaxScaler(feature_range=(0,1))\n",
    " \n",
    "## Preprocessing the dataset\n",
    "X_train_scaled = X_scaler.fit_transform(X_train)\n",
    "X_test_scaled = X_scaler.fit_transform(X_test)\n",
    "## One hot encode Y\n",
    "onehot_encoder = OneHotEncoder(sparse=False)\n",
    "Y_train_enc = onehot_encoder.fit_transform(Y_train.reshape(-1,1))\n",
    "Y_test_enc = onehot_encoder.fit_transform(Y_test.reshape(-1,1))"
   ]
  },
  {
   "cell_type": "code",
   "execution_count": null,
   "metadata": {},
   "outputs": [],
   "source": [
    "## set credentials and endpoint\n",
    "username = \"default\\\\user\"\n",
    "password = \"password\"\n",
    "url = \"https://deployment_url/v1/predict\"\n",
    "\n",
    "def predict(test):\n",
    "    global username, password, url, numberClassifications\n",
    "    i = 0\n",
    "    idx = 3 # random.randint(1,10)\n",
    "\n",
    "    # call the REST api to predict\n",
    "    headers = {'Content-Type': 'application/json'}\n",
    "    payload = json.loads('{\"data\": ' + str(test[0:idx].tolist()) + '}')\n",
    "    # print(payload)\n",
    "    resp = requests.post(url, auth=(username, password), headers=headers, json=payload, verify=False)\n",
    "\n",
    "    return resp\n"
   ]
  },
  {
   "cell_type": "code",
   "execution_count": null,
   "metadata": {},
   "outputs": [],
   "source": [
    "response = predict(X_test_scaled[1:20])\n",
    "for predict in json.loads(response.text)['Results']:\n",
    "    print(predict)"
   ]
  },
  {
   "cell_type": "code",
   "execution_count": null,
   "metadata": {},
   "outputs": [],
   "source": []
  },
  {
   "cell_type": "code",
   "execution_count": null,
   "metadata": {},
   "outputs": [],
   "source": []
  }
 ],
 "metadata": {
  "createdAt": "2019-09-26T09:24:50Z",
  "createdBy": "karim",
  "description": "predict iris flower categories",
  "kernelspec": {
   "display_name": "Python 3",
   "language": "python",
   "name": "python3"
  },
  "language_info": {
   "codemirror_mode": {
    "name": "ipython",
    "version": 3
   },
   "file_extension": ".py",
   "mimetype": "text/x-python",
   "name": "python",
   "nbconvert_exporter": "python",
   "pygments_lexer": "ipython3",
   "version": "3.7.3"
  },
  "modifiedAt": "2019-09-26T09:24:50Z",
  "modifiedBy": "karim",
  "name": "inference-client",
  "scenarioId": "01b32994-0612-41bb-b156-12c36c7d4a37"
 },
 "nbformat": 4,
 "nbformat_minor": 4
}
